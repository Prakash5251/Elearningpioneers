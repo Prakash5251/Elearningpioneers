{
 "cells": [
  {
   "cell_type": "markdown",
   "id": "342f39bf",
   "metadata": {},
   "source": [
    "# File Operations"
   ]
  },
  {
   "cell_type": "markdown",
   "id": "161a17d0",
   "metadata": {},
   "source": [
    "- Video URL: https://youtu.be/j0zF5RwGlOg"
   ]
  },
  {
   "cell_type": "markdown",
   "id": "3c86edf1",
   "metadata": {},
   "source": [
    "1. write\n",
    "2. read\n",
    "3. append"
   ]
  },
  {
   "cell_type": "code",
   "execution_count": null,
   "id": "e6e028b9",
   "metadata": {},
   "outputs": [],
   "source": [
    "file_object = open(file_name, mode = 'w')\n",
    "file_object = open(file_name, mode = 'r')\n",
    "file_object = open(file_name,)\n",
    "file_object = open(file_name, mode = 'a')\n",
    "\n",
    "Mode: \n",
    "    1. write mode >> 'w'\n",
    "    2. append mode >> 'r'\n",
    "    3. read mode >> 'r'\n",
    "    4. write bytes >> 'wb'\n",
    "    5. read bytes >> 'rb'\n",
    "    6. write mode >> 'x'"
   ]
  },
  {
   "cell_type": "markdown",
   "id": "c404ff57",
   "metadata": {},
   "source": [
    "## 1. Write Mode\n",
    "\n",
    "- It will create a new file if it does not exist\n",
    "- If already exist it will Overwrite that file"
   ]
  },
  {
   "cell_type": "code",
   "execution_count": 3,
   "id": "b5b2e278",
   "metadata": {},
   "outputs": [],
   "source": [
    "file = open('test.txt', 'w')\n",
    "file.write('This file got created using write in python')\n",
    "file.close()"
   ]
  },
  {
   "cell_type": "markdown",
   "id": "93b131f6",
   "metadata": {},
   "source": [
    "## 2. Append Mode\n",
    "\n",
    "\n",
    "- It will create a new file if it does not exist\n",
    "- If already exist it will Overwrite that file and add content to that"
   ]
  },
  {
   "cell_type": "code",
   "execution_count": 5,
   "id": "5f9110a0",
   "metadata": {},
   "outputs": [],
   "source": [
    "text = \" Writing new context to append the existing file using append in python\"\n",
    "\n",
    "file = open('test.txt', 'a')\n",
    "file.write(text)\n",
    "file.close()"
   ]
  },
  {
   "cell_type": "markdown",
   "id": "0189a0a7",
   "metadata": {},
   "source": [
    "## 3. Read Mode"
   ]
  },
  {
   "cell_type": "code",
   "execution_count": 6,
   "id": "8a34520d",
   "metadata": {},
   "outputs": [
    {
     "data": {
      "text/plain": [
       "'This file got created using write in pythonWriting new context to append the existing file using append in python Writing new context to append the existing file using append in python'"
      ]
     },
     "execution_count": 6,
     "metadata": {},
     "output_type": "execute_result"
    }
   ],
   "source": [
    "file = open('test.txt','r')\n",
    "file.read()"
   ]
  },
  {
   "cell_type": "code",
   "execution_count": 7,
   "id": "913c7477",
   "metadata": {},
   "outputs": [
    {
     "name": "stdout",
     "output_type": "stream",
     "text": [
      "This file got created using write in pythonWriting new context to append the existing file using append in python Writing new context to append the existing file using append in python\n"
     ]
    }
   ],
   "source": [
    "file = open('test.txt','r')\n",
    "text_r = file.read()\n",
    "print(text_r)"
   ]
  },
  {
   "cell_type": "markdown",
   "id": "7c383559",
   "metadata": {},
   "source": [
    "## 4. Readlines\n",
    "\n",
    "- It returns list of the lines in the file"
   ]
  },
  {
   "cell_type": "code",
   "execution_count": 9,
   "id": "dc5457f9",
   "metadata": {},
   "outputs": [
    {
     "name": "stdout",
     "output_type": "stream",
     "text": [
      "['This file got created using write in pythonWriting new context to append the existing file using append in python Writing new context to append the existing file using append in python']\n"
     ]
    }
   ],
   "source": [
    "file =  open('test.txt','r')\n",
    "result = file.readlines()\n",
    "file.close()\n",
    "\n",
    "print(result) ## Show returns all lines from the file"
   ]
  },
  {
   "cell_type": "markdown",
   "id": "fd269c52",
   "metadata": {},
   "source": [
    "## 5. Readline\n",
    "\n",
    "- It will returns single line with every readline"
   ]
  },
  {
   "cell_type": "code",
   "execution_count": 10,
   "id": "b44651f3",
   "metadata": {},
   "outputs": [
    {
     "name": "stdout",
     "output_type": "stream",
     "text": [
      "This file got created using write in pythonWriting new context to append the existing file using append in python Writing new context to append the existing file using append in python\n"
     ]
    }
   ],
   "source": [
    "file =  open('test.txt','r')\n",
    "result = file.readline()\n",
    "file.close()\n",
    "\n",
    "print(result) ## Show returns all lines from the file"
   ]
  },
  {
   "cell_type": "code",
   "execution_count": 12,
   "id": "cc6ae147",
   "metadata": {},
   "outputs": [
    {
     "name": "stdout",
     "output_type": "stream",
     "text": [
      "\n"
     ]
    }
   ],
   "source": [
    "file =  open('test.txt','r')\n",
    "result = file.readline()\n",
    "result = file.readline()\n",
    "file.close()\n",
    "\n",
    "print(result) ## Show returns all lines from the file"
   ]
  },
  {
   "cell_type": "markdown",
   "id": "da729d9e",
   "metadata": {},
   "source": [
    "## 6. Write Mode 'x'"
   ]
  },
  {
   "cell_type": "markdown",
   "id": "74eafc32",
   "metadata": {},
   "source": [
    "- It will check if the file already exist\n",
    "- If the file does not exists, it create new file\n",
    "- If the file exist it will throw an error"
   ]
  },
  {
   "cell_type": "code",
   "execution_count": 13,
   "id": "28f71e16",
   "metadata": {},
   "outputs": [
    {
     "data": {
      "text/plain": [
       "<function TextIOWrapper.close()>"
      ]
     },
     "execution_count": 13,
     "metadata": {},
     "output_type": "execute_result"
    }
   ],
   "source": [
    "A = open('Another File', 'x')\n",
    "A.write('Test this x mode how it perform')\n",
    "A.close"
   ]
  },
  {
   "cell_type": "code",
   "execution_count": 14,
   "id": "ee3884b3",
   "metadata": {},
   "outputs": [
    {
     "ename": "FileExistsError",
     "evalue": "[Errno 17] File exists: 'test.txt'",
     "output_type": "error",
     "traceback": [
      "\u001b[0;31m---------------------------------------------------------------------------\u001b[0m",
      "\u001b[0;31mFileExistsError\u001b[0m                           Traceback (most recent call last)",
      "Cell \u001b[0;32mIn[14], line 1\u001b[0m\n\u001b[0;32m----> 1\u001b[0m A \u001b[38;5;241m=\u001b[39m \u001b[38;5;28;43mopen\u001b[39;49m\u001b[43m(\u001b[49m\u001b[38;5;124;43m'\u001b[39;49m\u001b[38;5;124;43mtest.txt\u001b[39;49m\u001b[38;5;124;43m'\u001b[39;49m\u001b[43m,\u001b[49m\u001b[43m \u001b[49m\u001b[38;5;124;43m'\u001b[39;49m\u001b[38;5;124;43mx\u001b[39;49m\u001b[38;5;124;43m'\u001b[39;49m\u001b[43m)\u001b[49m\n\u001b[1;32m      2\u001b[0m A\u001b[38;5;241m.\u001b[39mwrite(\u001b[38;5;124m'\u001b[39m\u001b[38;5;124mTest this x mode how it perform\u001b[39m\u001b[38;5;124m'\u001b[39m)\n\u001b[1;32m      3\u001b[0m A\u001b[38;5;241m.\u001b[39mclose\n",
      "File \u001b[0;32m~/anaconda3/lib/python3.10/site-packages/IPython/core/interactiveshell.py:282\u001b[0m, in \u001b[0;36m_modified_open\u001b[0;34m(file, *args, **kwargs)\u001b[0m\n\u001b[1;32m    275\u001b[0m \u001b[38;5;28;01mif\u001b[39;00m file \u001b[38;5;129;01min\u001b[39;00m {\u001b[38;5;241m0\u001b[39m, \u001b[38;5;241m1\u001b[39m, \u001b[38;5;241m2\u001b[39m}:\n\u001b[1;32m    276\u001b[0m     \u001b[38;5;28;01mraise\u001b[39;00m \u001b[38;5;167;01mValueError\u001b[39;00m(\n\u001b[1;32m    277\u001b[0m         \u001b[38;5;124mf\u001b[39m\u001b[38;5;124m\"\u001b[39m\u001b[38;5;124mIPython won\u001b[39m\u001b[38;5;124m'\u001b[39m\u001b[38;5;124mt let you open fd=\u001b[39m\u001b[38;5;132;01m{\u001b[39;00mfile\u001b[38;5;132;01m}\u001b[39;00m\u001b[38;5;124m by default \u001b[39m\u001b[38;5;124m\"\u001b[39m\n\u001b[1;32m    278\u001b[0m         \u001b[38;5;124m\"\u001b[39m\u001b[38;5;124mas it is likely to crash IPython. If you know what you are doing, \u001b[39m\u001b[38;5;124m\"\u001b[39m\n\u001b[1;32m    279\u001b[0m         \u001b[38;5;124m\"\u001b[39m\u001b[38;5;124myou can use builtins\u001b[39m\u001b[38;5;124m'\u001b[39m\u001b[38;5;124m open.\u001b[39m\u001b[38;5;124m\"\u001b[39m\n\u001b[1;32m    280\u001b[0m     )\n\u001b[0;32m--> 282\u001b[0m \u001b[38;5;28;01mreturn\u001b[39;00m \u001b[43mio_open\u001b[49m\u001b[43m(\u001b[49m\u001b[43mfile\u001b[49m\u001b[43m,\u001b[49m\u001b[43m \u001b[49m\u001b[38;5;241;43m*\u001b[39;49m\u001b[43margs\u001b[49m\u001b[43m,\u001b[49m\u001b[43m \u001b[49m\u001b[38;5;241;43m*\u001b[39;49m\u001b[38;5;241;43m*\u001b[39;49m\u001b[43mkwargs\u001b[49m\u001b[43m)\u001b[49m\n",
      "\u001b[0;31mFileExistsError\u001b[0m: [Errno 17] File exists: 'test.txt'"
     ]
    }
   ],
   "source": [
    "A = open('test.txt', 'x')\n",
    "A.write('Test this x mode how it perform')\n",
    "A.close"
   ]
  },
  {
   "cell_type": "code",
   "execution_count": null,
   "id": "0dff8b43",
   "metadata": {},
   "outputs": [],
   "source": []
  }
 ],
 "metadata": {
  "kernelspec": {
   "display_name": "Python 3 (ipykernel)",
   "language": "python",
   "name": "python3"
  },
  "language_info": {
   "codemirror_mode": {
    "name": "ipython",
    "version": 3
   },
   "file_extension": ".py",
   "mimetype": "text/x-python",
   "name": "python",
   "nbconvert_exporter": "python",
   "pygments_lexer": "ipython3",
   "version": "3.10.9"
  }
 },
 "nbformat": 4,
 "nbformat_minor": 5
}
