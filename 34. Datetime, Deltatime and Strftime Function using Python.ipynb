{
 "cells": [
  {
   "cell_type": "markdown",
   "id": "9d53dc6d",
   "metadata": {},
   "source": [
    "# Time & Datetime Library"
   ]
  },
  {
   "cell_type": "markdown",
   "id": "53ef2944",
   "metadata": {},
   "source": [
    "- Video URL: https://youtu.be/aDaTJJWNufI"
   ]
  },
  {
   "cell_type": "code",
   "execution_count": 1,
   "id": "edf0f881",
   "metadata": {},
   "outputs": [],
   "source": [
    "import time\n",
    "import datetime"
   ]
  },
  {
   "cell_type": "markdown",
   "id": "29e142eb",
   "metadata": {},
   "source": [
    "## 1. Current Date & Time"
   ]
  },
  {
   "cell_type": "markdown",
   "id": "95049350",
   "metadata": {},
   "source": [
    "###  now()"
   ]
  },
  {
   "cell_type": "code",
   "execution_count": 3,
   "id": "4a94dbab",
   "metadata": {},
   "outputs": [
    {
     "data": {
      "text/plain": [
       "datetime.datetime(2023, 11, 11, 6, 51, 2, 243765)"
      ]
     },
     "execution_count": 3,
     "metadata": {},
     "output_type": "execute_result"
    }
   ],
   "source": [
    "datetime.datetime.now()"
   ]
  },
  {
   "cell_type": "code",
   "execution_count": 13,
   "id": "40a41e0d",
   "metadata": {},
   "outputs": [
    {
     "name": "stdout",
     "output_type": "stream",
     "text": [
      "2023-11-11 17:03:30.273239\n"
     ]
    }
   ],
   "source": [
    "print(datetime.datetime.now())"
   ]
  },
  {
   "cell_type": "markdown",
   "id": "e2e335f8",
   "metadata": {},
   "source": [
    "### today()"
   ]
  },
  {
   "cell_type": "code",
   "execution_count": 4,
   "id": "8a109009",
   "metadata": {},
   "outputs": [
    {
     "name": "stdout",
     "output_type": "stream",
     "text": [
      "2023-11-11 06:51:52.523949\n"
     ]
    }
   ],
   "source": [
    "today = datetime.datetime.today()\n",
    "print(today)"
   ]
  },
  {
   "cell_type": "code",
   "execution_count": 5,
   "id": "4809834a",
   "metadata": {},
   "outputs": [
    {
     "data": {
      "text/plain": [
       "datetime.date(2023, 11, 11)"
      ]
     },
     "execution_count": 5,
     "metadata": {},
     "output_type": "execute_result"
    }
   ],
   "source": [
    "today.date()"
   ]
  },
  {
   "cell_type": "code",
   "execution_count": 6,
   "id": "a5ff1d81",
   "metadata": {},
   "outputs": [
    {
     "data": {
      "text/plain": [
       "datetime.time(6, 51, 52, 523949)"
      ]
     },
     "execution_count": 6,
     "metadata": {},
     "output_type": "execute_result"
    }
   ],
   "source": [
    "today.time()"
   ]
  },
  {
   "cell_type": "code",
   "execution_count": 7,
   "id": "b254e9b1",
   "metadata": {},
   "outputs": [
    {
     "data": {
      "text/plain": [
       "1699665712.523949"
      ]
     },
     "execution_count": 7,
     "metadata": {},
     "output_type": "execute_result"
    }
   ],
   "source": [
    "today.timestamp()"
   ]
  },
  {
   "cell_type": "code",
   "execution_count": 8,
   "id": "71a672f2",
   "metadata": {},
   "outputs": [
    {
     "data": {
      "text/plain": [
       "time.struct_time(tm_year=2023, tm_mon=11, tm_mday=11, tm_hour=6, tm_min=51, tm_sec=52, tm_wday=5, tm_yday=315, tm_isdst=-1)"
      ]
     },
     "execution_count": 8,
     "metadata": {},
     "output_type": "execute_result"
    }
   ],
   "source": [
    "today.timetuple()"
   ]
  },
  {
   "cell_type": "code",
   "execution_count": 10,
   "id": "5485412f",
   "metadata": {},
   "outputs": [
    {
     "data": {
      "text/plain": [
       "2023"
      ]
     },
     "execution_count": 10,
     "metadata": {},
     "output_type": "execute_result"
    }
   ],
   "source": [
    "today.year"
   ]
  },
  {
   "cell_type": "code",
   "execution_count": 12,
   "id": "022b38ad",
   "metadata": {},
   "outputs": [
    {
     "data": {
      "text/plain": [
       "datetime.IsoCalendarDate(year=2023, week=45, weekday=6)"
      ]
     },
     "execution_count": 12,
     "metadata": {},
     "output_type": "execute_result"
    }
   ],
   "source": [
    "today.isocalendar()"
   ]
  },
  {
   "cell_type": "code",
   "execution_count": 16,
   "id": "aefd5e13",
   "metadata": {},
   "outputs": [
    {
     "data": {
      "text/plain": [
       "11"
      ]
     },
     "execution_count": 16,
     "metadata": {},
     "output_type": "execute_result"
    }
   ],
   "source": [
    "today.day"
   ]
  },
  {
   "cell_type": "code",
   "execution_count": 17,
   "id": "e47a4d6b",
   "metadata": {},
   "outputs": [
    {
     "data": {
      "text/plain": [
       "11"
      ]
     },
     "execution_count": 17,
     "metadata": {},
     "output_type": "execute_result"
    }
   ],
   "source": [
    "today.month"
   ]
  },
  {
   "cell_type": "code",
   "execution_count": 18,
   "id": "472049ea",
   "metadata": {},
   "outputs": [
    {
     "data": {
      "text/plain": [
       "52"
      ]
     },
     "execution_count": 18,
     "metadata": {},
     "output_type": "execute_result"
    }
   ],
   "source": [
    "today.second"
   ]
  },
  {
   "cell_type": "code",
   "execution_count": 19,
   "id": "f5792ed9",
   "metadata": {},
   "outputs": [
    {
     "data": {
      "text/plain": [
       "6"
      ]
     },
     "execution_count": 19,
     "metadata": {},
     "output_type": "execute_result"
    }
   ],
   "source": [
    "today.hour"
   ]
  },
  {
   "cell_type": "code",
   "execution_count": 20,
   "id": "a28118dd",
   "metadata": {},
   "outputs": [
    {
     "data": {
      "text/plain": [
       "523949"
      ]
     },
     "execution_count": 20,
     "metadata": {},
     "output_type": "execute_result"
    }
   ],
   "source": [
    "today.microsecond"
   ]
  },
  {
   "cell_type": "code",
   "execution_count": 23,
   "id": "129a5fa1",
   "metadata": {},
   "outputs": [
    {
     "data": {
      "text/plain": [
       "datetime.datetime(1, 1, 1, 0, 0)"
      ]
     },
     "execution_count": 23,
     "metadata": {},
     "output_type": "execute_result"
    }
   ],
   "source": [
    "today.min"
   ]
  },
  {
   "cell_type": "markdown",
   "id": "9833b854",
   "metadata": {},
   "source": [
    "## 2. How Time Delta Works"
   ]
  },
  {
   "cell_type": "code",
   "execution_count": 24,
   "id": "d015c18d",
   "metadata": {},
   "outputs": [
    {
     "data": {
      "text/plain": [
       "datetime.datetime(2023, 11, 11, 17, 7, 47, 931981)"
      ]
     },
     "execution_count": 24,
     "metadata": {},
     "output_type": "execute_result"
    }
   ],
   "source": [
    "today = datetime.datetime.now()\n",
    "today"
   ]
  },
  {
   "cell_type": "code",
   "execution_count": 26,
   "id": "bf07ae98",
   "metadata": {},
   "outputs": [
    {
     "ename": "TypeError",
     "evalue": "unsupported operand type(s) for +: 'datetime.datetime' and 'int'",
     "output_type": "error",
     "traceback": [
      "\u001b[0;31m---------------------------------------------------------------------------\u001b[0m",
      "\u001b[0;31mTypeError\u001b[0m                                 Traceback (most recent call last)",
      "Cell \u001b[0;32mIn[26], line 1\u001b[0m\n\u001b[0;32m----> 1\u001b[0m a \u001b[38;5;241m=\u001b[39m \u001b[43mtoday\u001b[49m\u001b[43m \u001b[49m\u001b[38;5;241;43m+\u001b[39;49m\u001b[43m \u001b[49m\u001b[38;5;241;43m15\u001b[39;49m\n",
      "\u001b[0;31mTypeError\u001b[0m: unsupported operand type(s) for +: 'datetime.datetime' and 'int'"
     ]
    }
   ],
   "source": [
    "a = today + 15"
   ]
  },
  {
   "cell_type": "code",
   "execution_count": 27,
   "id": "5c738b6e",
   "metadata": {},
   "outputs": [
    {
     "data": {
      "text/plain": [
       "datetime.datetime(2023, 11, 27, 17, 7, 47, 931981)"
      ]
     },
     "execution_count": 27,
     "metadata": {},
     "output_type": "execute_result"
    }
   ],
   "source": [
    "new = today + datetime.timedelta(days = 16)\n",
    "new"
   ]
  },
  {
   "cell_type": "code",
   "execution_count": 28,
   "id": "5571bca7",
   "metadata": {},
   "outputs": [
    {
     "data": {
      "text/plain": [
       "datetime.datetime(2023, 11, 6, 17, 7, 47, 931981)"
      ]
     },
     "execution_count": 28,
     "metadata": {},
     "output_type": "execute_result"
    }
   ],
   "source": [
    "naya = today - datetime.timedelta(days = 5)\n",
    "naya"
   ]
  },
  {
   "cell_type": "code",
   "execution_count": 30,
   "id": "a2dbce3b",
   "metadata": {},
   "outputs": [
    {
     "data": {
      "text/plain": [
       "datetime.datetime(2023, 12, 2, 17, 7, 47, 931981)"
      ]
     },
     "execution_count": 30,
     "metadata": {},
     "output_type": "execute_result"
    }
   ],
   "source": [
    "week = today + datetime.timedelta(weeks = 3)\n",
    "week"
   ]
  },
  {
   "cell_type": "code",
   "execution_count": 31,
   "id": "654cae7e",
   "metadata": {},
   "outputs": [
    {
     "data": {
      "text/plain": [
       "datetime.datetime(2023, 11, 12, 17, 7, 47, 931981)"
      ]
     },
     "execution_count": 31,
     "metadata": {},
     "output_type": "execute_result"
    }
   ],
   "source": [
    "hr = today + datetime.timedelta(hours = 24)\n",
    "hr"
   ]
  },
  {
   "cell_type": "code",
   "execution_count": 32,
   "id": "79b03eb0",
   "metadata": {},
   "outputs": [
    {
     "data": {
      "text/plain": [
       "1699703196.374992"
      ]
     },
     "execution_count": 32,
     "metadata": {},
     "output_type": "execute_result"
    }
   ],
   "source": [
    "time.time()"
   ]
  },
  {
   "cell_type": "code",
   "execution_count": 34,
   "id": "6b2cba89",
   "metadata": {},
   "outputs": [
    {
     "name": "stdout",
     "output_type": "stream",
     "text": [
      "2.9831440448760986\n"
     ]
    }
   ],
   "source": [
    "start_time = time.time()\n",
    "\n",
    "for i in range (100000000):\n",
    "    pass\n",
    "end_time = time.time()\n",
    "\n",
    "p = end_time - start_time\n",
    "print(p)\n"
   ]
  },
  {
   "cell_type": "markdown",
   "id": "0ad975d4",
   "metadata": {},
   "source": [
    "## 3. What is strftime and how it convert time into string format"
   ]
  },
  {
   "cell_type": "code",
   "execution_count": 36,
   "id": "938f009f",
   "metadata": {},
   "outputs": [
    {
     "name": "stdout",
     "output_type": "stream",
     "text": [
      "2023-11-11 17:28:55.553998\n"
     ]
    }
   ],
   "source": [
    "today = datetime.datetime.today()\n",
    "today\n",
    "print(today)"
   ]
  },
  {
   "cell_type": "code",
   "execution_count": 37,
   "id": "489c3383",
   "metadata": {},
   "outputs": [
    {
     "name": "stdout",
     "output_type": "stream",
     "text": [
      "11.11.23\n"
     ]
    }
   ],
   "source": [
    "sformat = today.strftime(\"%d.%m.%y\")\n",
    "sformat\n",
    "print(sformat)"
   ]
  },
  {
   "cell_type": "code",
   "execution_count": 39,
   "id": "f6fe49a9",
   "metadata": {},
   "outputs": [
    {
     "name": "stdout",
     "output_type": "stream",
     "text": [
      "11.11.23\n"
     ]
    }
   ],
   "source": [
    "sformat = today.strftime(\"%d.%m.%y\")\n",
    "sformat\n",
    "print(sformat)"
   ]
  },
  {
   "cell_type": "code",
   "execution_count": null,
   "id": "9e07d729",
   "metadata": {},
   "outputs": [],
   "source": []
  }
 ],
 "metadata": {
  "kernelspec": {
   "display_name": "Python 3 (ipykernel)",
   "language": "python",
   "name": "python3"
  },
  "language_info": {
   "codemirror_mode": {
    "name": "ipython",
    "version": 3
   },
   "file_extension": ".py",
   "mimetype": "text/x-python",
   "name": "python",
   "nbconvert_exporter": "python",
   "pygments_lexer": "ipython3",
   "version": "3.10.9"
  }
 },
 "nbformat": 4,
 "nbformat_minor": 5
}
