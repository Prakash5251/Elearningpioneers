{
 "cells": [
  {
   "cell_type": "markdown",
   "id": "b13eb172",
   "metadata": {},
   "source": [
    "# Python Introduction"
   ]
  },
  {
   "cell_type": "markdown",
   "id": "38da377d",
   "metadata": {},
   "source": [
    "- Video URL: https://youtu.be/DgQVK9HyFlk"
   ]
  },
  {
   "cell_type": "markdown",
   "id": "41251d78",
   "metadata": {},
   "source": [
    "## Features of Python\n",
    "\n",
    "- Python is interpreted Language (Does not require prior Compilation)\n",
    "- Object oriented Language, high level programming\n",
    "- Simple to debug\n",
    "- Free and open source\n",
    "- Vast library support\n",
    "- Dynamically Typed Language\n",
    "- Programmer friendly Language (Easy to write, read and learn)"
   ]
  },
  {
   "cell_type": "markdown",
   "id": "1b08099d",
   "metadata": {},
   "source": [
    "## Who uses Python?\n",
    "\n",
    "- Google makes extensive use of python in its web search system.\n",
    "- YouTube video sharing service largely Written in python.\n",
    "- DropBox storage service codes both its server and Desktop client Software written in python.\n",
    "- The raspberry Pi single-board Computer promots python as its eEducational Language."
   ]
  },
  {
   "cell_type": "markdown",
   "id": "389a9325",
   "metadata": {},
   "source": [
    "## Identifier & Keywords\n",
    "\n",
    "- Python is a case Sensitive Language.\n",
    "- Python identifier is a name used to identify a variable, function, class module, or other object.\n",
    "- Rules for creating identifiers\n",
    "     - Starts with Alphabets or an underscore.\n",
    "     - Follwed by zero or more letters, _, and digits.\n",
    "     - keywords can not be used as identifier.\n",
    "- All keywords are in lowercase Except TRUE, and FALSE.\n",
    "- Python has 33 keywords."
   ]
  },
  {
   "cell_type": "markdown",
   "id": "26980acd",
   "metadata": {},
   "source": [
    "## Python Keywords"
   ]
  },
  {
   "cell_type": "markdown",
   "id": "84bd06b5",
   "metadata": {},
   "source": [
    "|Keywords  |Keywords  |Keywords  |Keywords  |Keywords |\n",
    "|----------|----------|----------|----------|---------|\n",
    "| False    | class    |  finally |   is     |  return |\n",
    "| None     | continue |  for     |   lambda |  try    |\n",
    "| True     | def      |  from    |  nonlocal|  while  |\n",
    "| and      | del      |  global  |   not    |  with   |\n",
    "| as       | elif     |  if      |   or     |  yield  |\n",
    "| assert   | else     |  import  |   pass   |         | \n",
    "| break    | except   |  in      |   raise  |         |"
   ]
  },
  {
   "cell_type": "markdown",
   "id": "2d15a844",
   "metadata": {},
   "source": [
    "## Python Data types"
   ]
  },
  {
   "cell_type": "markdown",
   "id": "296be365",
   "metadata": {},
   "source": [
    "### Basic Data Types:\n",
    "- int\n",
    "- float\n",
    "- complex\n",
    "- string\n",
    "- bytes"
   ]
  },
  {
   "cell_type": "markdown",
   "id": "58c01ec0",
   "metadata": {},
   "source": [
    "### Container Types:\n",
    "- list\n",
    "- tuple\n",
    "- set\n",
    "- dict"
   ]
  },
  {
   "cell_type": "markdown",
   "id": "67260f1f",
   "metadata": {},
   "source": [
    "### User Defined Types:\n",
    "- class"
   ]
  },
  {
   "cell_type": "markdown",
   "id": "1f699c08",
   "metadata": {},
   "source": [
    "## Print 'Hello World' \n",
    "\n"
   ]
  },
  {
   "cell_type": "code",
   "execution_count": 2,
   "id": "1ef72bd7",
   "metadata": {},
   "outputs": [
    {
     "name": "stdout",
     "output_type": "stream",
     "text": [
      "Hello World\n"
     ]
    }
   ],
   "source": [
    "print('Hello World')"
   ]
  },
  {
   "cell_type": "code",
   "execution_count": 4,
   "id": "274416a3",
   "metadata": {},
   "outputs": [
    {
     "name": "stdout",
     "output_type": "stream",
     "text": [
      "hello\n"
     ]
    }
   ],
   "source": [
    "print('hello')"
   ]
  },
  {
   "cell_type": "code",
   "execution_count": null,
   "id": "8ce74b90",
   "metadata": {},
   "outputs": [],
   "source": []
  }
 ],
 "metadata": {
  "kernelspec": {
   "display_name": "Python 3 (ipykernel)",
   "language": "python",
   "name": "python3"
  },
  "language_info": {
   "codemirror_mode": {
    "name": "ipython",
    "version": 3
   },
   "file_extension": ".py",
   "mimetype": "text/x-python",
   "name": "python",
   "nbconvert_exporter": "python",
   "pygments_lexer": "ipython3",
   "version": "3.10.9"
  }
 },
 "nbformat": 4,
 "nbformat_minor": 5
}
