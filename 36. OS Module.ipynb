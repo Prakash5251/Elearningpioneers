{
 "cells": [
  {
   "cell_type": "markdown",
   "id": "128a8c01",
   "metadata": {},
   "source": [
    " # OS Module in Python"
   ]
  },
  {
   "cell_type": "markdown",
   "id": "9a187eea",
   "metadata": {},
   "source": [
    "- Video URL: https://youtu.be/lxQSmCPbB4E"
   ]
  },
  {
   "cell_type": "code",
   "execution_count": 10,
   "id": "45d8558d",
   "metadata": {},
   "outputs": [],
   "source": [
    "import os"
   ]
  },
  {
   "cell_type": "markdown",
   "id": "2661b1e2",
   "metadata": {},
   "source": [
    "### OS Module\n",
    "\n",
    "    > os.rename()      = use to renaming the file or moving the file\n",
    "    > os.remove()      = use for removing the file\n",
    "    > os.path.exists() = use to check whether given file path exists or not\n",
    "    > os.mkdir()       = use to create a folder\n",
    "    > os.rmdir()       = use for removing empty folder"
   ]
  },
  {
   "cell_type": "markdown",
   "id": "dd042628",
   "metadata": {},
   "source": [
    "## 1. Rename / Move with OS Module"
   ]
  },
  {
   "cell_type": "code",
   "execution_count": null,
   "id": "79d74409",
   "metadata": {},
   "outputs": [],
   "source": [
    "os.rename(source_file_path, destination_file_path)"
   ]
  },
  {
   "cell_type": "code",
   "execution_count": 13,
   "id": "71287f86",
   "metadata": {},
   "outputs": [],
   "source": [
    "with open ('new_file.txt', \"w\") as file:\n",
    "    file.write('here we are creating a new txt file using python os module')"
   ]
  },
  {
   "cell_type": "code",
   "execution_count": 14,
   "id": "e14c2d01",
   "metadata": {},
   "outputs": [],
   "source": [
    "os.rename('new_file.txt', 'text_file.txt')"
   ]
  },
  {
   "cell_type": "markdown",
   "id": "2169ee90",
   "metadata": {},
   "source": [
    "## 2. Remove"
   ]
  },
  {
   "cell_type": "code",
   "execution_count": null,
   "id": "48bb1e52",
   "metadata": {},
   "outputs": [],
   "source": [
    "os.remove(file_path)"
   ]
  },
  {
   "cell_type": "code",
   "execution_count": 17,
   "id": "57cb226c",
   "metadata": {},
   "outputs": [],
   "source": [
    "path = '/Users/satya.ps/Downloads/Flipkart Projects/text_file.txt'\n",
    "os.remove(path)"
   ]
  },
  {
   "cell_type": "markdown",
   "id": "e57c1bdb",
   "metadata": {},
   "source": [
    "## 3. File Exists ?"
   ]
  },
  {
   "cell_type": "code",
   "execution_count": null,
   "id": "a266bfc6",
   "metadata": {},
   "outputs": [],
   "source": [
    "os.path.exists(file_path)\n",
    "\n",
    "This will return True >> If the file is present at given folder path\n",
    "This will return False >> If the file is not present at given folder path"
   ]
  },
  {
   "cell_type": "code",
   "execution_count": 16,
   "id": "3617a8bf",
   "metadata": {},
   "outputs": [
    {
     "data": {
      "text/plain": [
       "True"
      ]
     },
     "execution_count": 16,
     "metadata": {},
     "output_type": "execute_result"
    }
   ],
   "source": [
    "os.path.exists('text_file.txt') ## Since file is present in a current working directory we need not to give complete file path.\n"
   ]
  },
  {
   "cell_type": "code",
   "execution_count": 19,
   "id": "352efc87",
   "metadata": {},
   "outputs": [
    {
     "data": {
      "text/plain": [
       "False"
      ]
     },
     "execution_count": 19,
     "metadata": {},
     "output_type": "execute_result"
    }
   ],
   "source": [
    "os.path.exists('text_file.txt')  ## File was removed before executive this commnad"
   ]
  },
  {
   "cell_type": "markdown",
   "id": "1db51e42",
   "metadata": {},
   "source": [
    "## 4. Creating Folder"
   ]
  },
  {
   "cell_type": "code",
   "execution_count": null,
   "id": "a29346b0",
   "metadata": {},
   "outputs": [],
   "source": [
    "os.mkdir(folder_path)"
   ]
  },
  {
   "cell_type": "code",
   "execution_count": 20,
   "id": "2e8143b9",
   "metadata": {},
   "outputs": [],
   "source": [
    "os.mkdir('Love')"
   ]
  },
  {
   "cell_type": "code",
   "execution_count": 21,
   "id": "5f2e418a",
   "metadata": {},
   "outputs": [],
   "source": [
    "## And if we want to create folder at Particular location we must have to pass that location."
   ]
  },
  {
   "cell_type": "code",
   "execution_count": 23,
   "id": "3abfe378",
   "metadata": {},
   "outputs": [
    {
     "data": {
      "text/plain": [
       "True"
      ]
     },
     "execution_count": 23,
     "metadata": {},
     "output_type": "execute_result"
    }
   ],
   "source": [
    "os.path.exists('Love')  # If file got created in previous command it will Return True or else False"
   ]
  },
  {
   "cell_type": "markdown",
   "id": "3ee43012",
   "metadata": {},
   "source": [
    "## 5. Creating Folder within the Folder"
   ]
  },
  {
   "cell_type": "code",
   "execution_count": 41,
   "id": "382a376e",
   "metadata": {},
   "outputs": [],
   "source": [
    "file_path = '/Users/satya.ps/Downloads/Flipkart Projects/New'"
   ]
  },
  {
   "cell_type": "code",
   "execution_count": 42,
   "id": "4a5f215f",
   "metadata": {},
   "outputs": [
    {
     "name": "stdout",
     "output_type": "stream",
     "text": [
      "Folder does not exist, Its created now\n"
     ]
    }
   ],
   "source": [
    "if os.path.exists(file_path):\n",
    "    print('Folder Exists')\n",
    "else:   \n",
    "    print('Folder does not exist, Its created now')\n",
    "    os.mkdir('New')"
   ]
  },
  {
   "cell_type": "markdown",
   "id": "3bcb6089",
   "metadata": {},
   "source": [
    "## 6. Deleting Folder/Directory"
   ]
  },
  {
   "cell_type": "code",
   "execution_count": null,
   "id": "d5466e26",
   "metadata": {},
   "outputs": [],
   "source": [
    "os.rmdir(folder_path)"
   ]
  },
  {
   "cell_type": "code",
   "execution_count": 43,
   "id": "be9b09e5",
   "metadata": {},
   "outputs": [],
   "source": [
    "os.rmdir('New')"
   ]
  },
  {
   "cell_type": "code",
   "execution_count": 44,
   "id": "af0fd5e5",
   "metadata": {},
   "outputs": [],
   "source": [
    "# create a new folder and delete it"
   ]
  },
  {
   "cell_type": "code",
   "execution_count": 45,
   "id": "796905cd",
   "metadata": {},
   "outputs": [],
   "source": [
    "os.mkdir('Hello')"
   ]
  },
  {
   "cell_type": "code",
   "execution_count": 46,
   "id": "e7bb7e10",
   "metadata": {},
   "outputs": [],
   "source": [
    "os.rmdir('Hello')"
   ]
  },
  {
   "cell_type": "code",
   "execution_count": null,
   "id": "986d36d0",
   "metadata": {},
   "outputs": [],
   "source": []
  }
 ],
 "metadata": {
  "kernelspec": {
   "display_name": "Python 3 (ipykernel)",
   "language": "python",
   "name": "python3"
  },
  "language_info": {
   "codemirror_mode": {
    "name": "ipython",
    "version": 3
   },
   "file_extension": ".py",
   "mimetype": "text/x-python",
   "name": "python",
   "nbconvert_exporter": "python",
   "pygments_lexer": "ipython3",
   "version": "3.10.9"
  }
 },
 "nbformat": 4,
 "nbformat_minor": 5
}
